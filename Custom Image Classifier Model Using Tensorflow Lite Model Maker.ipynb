{
  "nbformat": 4,
  "nbformat_minor": 0,
  "metadata": {
    "colab": {
      "name": "Custom Image Classifier Model.ipynb",
      "provenance": []
    },
    "kernelspec": {
      "name": "python3",
      "display_name": "Python 3"
    },
    "language_info": {
      "name": "python"
    },
    "accelerator": "GPU"
  },
  "cells": [
    {
      "cell_type": "code",
      "metadata": {
        "id": "Awq8sMaIFHJ1"
      },
      "source": [
        "# Install Tensorflow Lite Model Maker\n",
        "# &> /dev/null suppresses output\n",
        "!pip install -q tflite-model-maker &> /dev/null"
      ],
      "execution_count": 1,
      "outputs": []
    },
    {
      "cell_type": "code",
      "metadata": {
        "id": "2fEAqoLLF6O9"
      },
      "source": [
        "# Imports and check that we are using TF2.x\n",
        "import numpy as np\n",
        "import os\n",
        "\n",
        "from tflite_model_maker import configs\n",
        "from tflite_model_maker import ExportFormat\n",
        "from tflite_model_maker import model_spec\n",
        "from tflite_model_maker import image_classifier\n",
        "from tflite_model_maker.image_classifier import DataLoader\n",
        "\n",
        "import tensorflow as tf\n",
        "assert tf.__version__.startswith('2')\n",
        "tf.get_logger().setLevel('ERROR')"
      ],
      "execution_count": 2,
      "outputs": []
    },
    {
      "cell_type": "code",
      "metadata": {
        "id": "1BnQatXYIcEa",
        "colab": {
          "base_uri": "https://localhost:8080/"
        },
        "outputId": "71148bd0-fd6e-41e9-8cd5-420d86e91cb9"
      },
      "source": [
        "data_path = tf.keras.utils.get_file(\n",
        "      'flower_photos',\n",
        "      'https://storage.googleapis.com/download.tensorflow.org/example_images/flower_photos.tgz',\n",
        "      untar=True)"
      ],
      "execution_count": 3,
      "outputs": [
        {
          "output_type": "stream",
          "text": [
            "Downloading data from https://storage.googleapis.com/download.tensorflow.org/example_images/flower_photos.tgz\n",
            "228818944/228813984 [==============================] - 1s 0us/step\n"
          ],
          "name": "stdout"
        }
      ]
    },
    {
      "cell_type": "code",
      "metadata": {
        "id": "VJjNwiEkIgfh"
      },
      "source": [
        "data = DataLoader.from_folder(data_path)\n",
        "train_data, test_data = data.split(0.9)"
      ],
      "execution_count": 4,
      "outputs": []
    },
    {
      "cell_type": "code",
      "metadata": {
        "id": "XsQSgI-WIkW0",
        "colab": {
          "base_uri": "https://localhost:8080/"
        },
        "outputId": "98dc6624-f951-43b6-aca3-f246eb470d0e"
      },
      "source": [
        "# Model maker abstract model design specifics like convolutional layers, dense layers, relu, loss, flatten etc\n",
        "# Model maker does transfer learning - > uses existing pre-trained model as starting point and takes the things\n",
        "# the model learned about how images are constructed then applying them to understand the flowers. \n",
        "\n",
        "# By default: tensorflow lite model maker uses \"MobileNet\" model, designed to recognize 1000 types of image\n",
        "# Its logic of learning features to distinguish between 1000 classes are reused.\n",
        "# Same features can be mapped to the 5 classes of flowers\n",
        "model = image_classifier.create(train_data)"
      ],
      "execution_count": 5,
      "outputs": [
        {
          "output_type": "stream",
          "text": [
            "Model: \"sequential\"\n",
            "_________________________________________________________________\n",
            "Layer (type)                 Output Shape              Param #   \n",
            "=================================================================\n",
            "hub_keras_layer_v1v2 (HubKer (None, 1280)              3413024   \n",
            "_________________________________________________________________\n",
            "dropout (Dropout)            (None, 1280)              0         \n",
            "_________________________________________________________________\n",
            "dense (Dense)                (None, 5)                 6405      \n",
            "=================================================================\n",
            "Total params: 3,419,429\n",
            "Trainable params: 6,405\n",
            "Non-trainable params: 3,413,024\n",
            "_________________________________________________________________\n",
            "None\n",
            "Epoch 1/5\n"
          ],
          "name": "stdout"
        },
        {
          "output_type": "stream",
          "text": [
            "/usr/local/lib/python3.7/dist-packages/tensorflow/python/keras/optimizer_v2/optimizer_v2.py:375: UserWarning: The `lr` argument is deprecated, use `learning_rate` instead.\n",
            "  \"The `lr` argument is deprecated, use `learning_rate` instead.\")\n"
          ],
          "name": "stderr"
        },
        {
          "output_type": "stream",
          "text": [
            "103/103 [==============================] - 47s 147ms/step - loss: 0.8709 - accuracy: 0.7706\n",
            "Epoch 2/5\n",
            "103/103 [==============================] - 15s 142ms/step - loss: 0.6581 - accuracy: 0.8935\n",
            "Epoch 3/5\n",
            "103/103 [==============================] - 15s 142ms/step - loss: 0.6230 - accuracy: 0.9138\n",
            "Epoch 4/5\n",
            "103/103 [==============================] - 15s 149ms/step - loss: 0.6027 - accuracy: 0.9275\n",
            "Epoch 5/5\n",
            "103/103 [==============================] - 15s 149ms/step - loss: 0.5891 - accuracy: 0.9354\n"
          ],
          "name": "stdout"
        }
      ]
    },
    {
      "cell_type": "code",
      "metadata": {
        "id": "v5RXPXiiIoC8",
        "colab": {
          "base_uri": "https://localhost:8080/"
        },
        "outputId": "873a4645-3cf9-489e-9136-3edc66823f5c"
      },
      "source": [
        "loss, accuracy = model.evaluate(test_data)"
      ],
      "execution_count": 6,
      "outputs": [
        {
          "output_type": "stream",
          "text": [
            "12/12 [==============================] - 6s 164ms/step - loss: 0.6411 - accuracy: 0.8965\n"
          ],
          "name": "stdout"
        }
      ]
    },
    {
      "cell_type": "code",
      "metadata": {
        "id": "M1BH-Im2IqaG",
        "colab": {
          "base_uri": "https://localhost:8080/"
        },
        "outputId": "1f484bb9-510a-4073-f755-5adccc720107"
      },
      "source": [
        "model.export(export_dir='/mm_flowers')"
      ],
      "execution_count": 7,
      "outputs": [
        {
          "output_type": "stream",
          "text": [
            "WARNING:absl:For model inputs containing unsupported operations which cannot be quantized, the `inference_input_type` attribute will default to the original type.\n"
          ],
          "name": "stderr"
        }
      ]
    }
  ]
}